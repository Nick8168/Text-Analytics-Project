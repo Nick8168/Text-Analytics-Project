{
 "cells": [
  {
   "cell_type": "code",
   "execution_count": 1,
   "id": "f1aac421",
   "metadata": {},
   "outputs": [],
   "source": [
    "import pandas as pd\n",
    "import numpy as np\n",
    "import random\n",
    "import matplotlib.pyplot as plt"
   ]
  },
  {
   "cell_type": "code",
   "execution_count": 2,
   "id": "5b81b2ad",
   "metadata": {},
   "outputs": [
    {
     "ename": "FileNotFoundError",
     "evalue": "[Errno 2] No such file or directory: 'dataset_for_comparison.csv'",
     "output_type": "error",
     "traceback": [
      "\u001b[1;31m---------------------------------------------------------------------------\u001b[0m",
      "\u001b[1;31mFileNotFoundError\u001b[0m                         Traceback (most recent call last)",
      "Cell \u001b[1;32mIn[2], line 2\u001b[0m\n\u001b[0;32m      1\u001b[0m \u001b[38;5;66;03m# LOADING DATA FROM CSV FILE\u001b[39;00m\n\u001b[1;32m----> 2\u001b[0m df\u001b[38;5;241m=\u001b[39mpd\u001b[38;5;241m.\u001b[39mread_csv(\u001b[38;5;124m\"\u001b[39m\u001b[38;5;124mdataset_for_comparison.csv\u001b[39m\u001b[38;5;124m\"\u001b[39m, encoding\u001b[38;5;241m=\u001b[39m\u001b[38;5;124m'\u001b[39m\u001b[38;5;124mlatin1\u001b[39m\u001b[38;5;124m'\u001b[39m)\n\u001b[0;32m      3\u001b[0m df\n",
      "File \u001b[1;32mF:\\Anaconda3\\Lib\\site-packages\\pandas\\util\\_decorators.py:211\u001b[0m, in \u001b[0;36mdeprecate_kwarg.<locals>._deprecate_kwarg.<locals>.wrapper\u001b[1;34m(*args, **kwargs)\u001b[0m\n\u001b[0;32m    209\u001b[0m     \u001b[38;5;28;01melse\u001b[39;00m:\n\u001b[0;32m    210\u001b[0m         kwargs[new_arg_name] \u001b[38;5;241m=\u001b[39m new_arg_value\n\u001b[1;32m--> 211\u001b[0m \u001b[38;5;28;01mreturn\u001b[39;00m func(\u001b[38;5;241m*\u001b[39margs, \u001b[38;5;241m*\u001b[39m\u001b[38;5;241m*\u001b[39mkwargs)\n",
      "File \u001b[1;32mF:\\Anaconda3\\Lib\\site-packages\\pandas\\util\\_decorators.py:331\u001b[0m, in \u001b[0;36mdeprecate_nonkeyword_arguments.<locals>.decorate.<locals>.wrapper\u001b[1;34m(*args, **kwargs)\u001b[0m\n\u001b[0;32m    325\u001b[0m \u001b[38;5;28;01mif\u001b[39;00m \u001b[38;5;28mlen\u001b[39m(args) \u001b[38;5;241m>\u001b[39m num_allow_args:\n\u001b[0;32m    326\u001b[0m     warnings\u001b[38;5;241m.\u001b[39mwarn(\n\u001b[0;32m    327\u001b[0m         msg\u001b[38;5;241m.\u001b[39mformat(arguments\u001b[38;5;241m=\u001b[39m_format_argument_list(allow_args)),\n\u001b[0;32m    328\u001b[0m         \u001b[38;5;167;01mFutureWarning\u001b[39;00m,\n\u001b[0;32m    329\u001b[0m         stacklevel\u001b[38;5;241m=\u001b[39mfind_stack_level(),\n\u001b[0;32m    330\u001b[0m     )\n\u001b[1;32m--> 331\u001b[0m \u001b[38;5;28;01mreturn\u001b[39;00m func(\u001b[38;5;241m*\u001b[39margs, \u001b[38;5;241m*\u001b[39m\u001b[38;5;241m*\u001b[39mkwargs)\n",
      "File \u001b[1;32mF:\\Anaconda3\\Lib\\site-packages\\pandas\\io\\parsers\\readers.py:950\u001b[0m, in \u001b[0;36mread_csv\u001b[1;34m(filepath_or_buffer, sep, delimiter, header, names, index_col, usecols, squeeze, prefix, mangle_dupe_cols, dtype, engine, converters, true_values, false_values, skipinitialspace, skiprows, skipfooter, nrows, na_values, keep_default_na, na_filter, verbose, skip_blank_lines, parse_dates, infer_datetime_format, keep_date_col, date_parser, dayfirst, cache_dates, iterator, chunksize, compression, thousands, decimal, lineterminator, quotechar, quoting, doublequote, escapechar, comment, encoding, encoding_errors, dialect, error_bad_lines, warn_bad_lines, on_bad_lines, delim_whitespace, low_memory, memory_map, float_precision, storage_options)\u001b[0m\n\u001b[0;32m    935\u001b[0m kwds_defaults \u001b[38;5;241m=\u001b[39m _refine_defaults_read(\n\u001b[0;32m    936\u001b[0m     dialect,\n\u001b[0;32m    937\u001b[0m     delimiter,\n\u001b[1;32m   (...)\u001b[0m\n\u001b[0;32m    946\u001b[0m     defaults\u001b[38;5;241m=\u001b[39m{\u001b[38;5;124m\"\u001b[39m\u001b[38;5;124mdelimiter\u001b[39m\u001b[38;5;124m\"\u001b[39m: \u001b[38;5;124m\"\u001b[39m\u001b[38;5;124m,\u001b[39m\u001b[38;5;124m\"\u001b[39m},\n\u001b[0;32m    947\u001b[0m )\n\u001b[0;32m    948\u001b[0m kwds\u001b[38;5;241m.\u001b[39mupdate(kwds_defaults)\n\u001b[1;32m--> 950\u001b[0m \u001b[38;5;28;01mreturn\u001b[39;00m _read(filepath_or_buffer, kwds)\n",
      "File \u001b[1;32mF:\\Anaconda3\\Lib\\site-packages\\pandas\\io\\parsers\\readers.py:605\u001b[0m, in \u001b[0;36m_read\u001b[1;34m(filepath_or_buffer, kwds)\u001b[0m\n\u001b[0;32m    602\u001b[0m _validate_names(kwds\u001b[38;5;241m.\u001b[39mget(\u001b[38;5;124m\"\u001b[39m\u001b[38;5;124mnames\u001b[39m\u001b[38;5;124m\"\u001b[39m, \u001b[38;5;28;01mNone\u001b[39;00m))\n\u001b[0;32m    604\u001b[0m \u001b[38;5;66;03m# Create the parser.\u001b[39;00m\n\u001b[1;32m--> 605\u001b[0m parser \u001b[38;5;241m=\u001b[39m TextFileReader(filepath_or_buffer, \u001b[38;5;241m*\u001b[39m\u001b[38;5;241m*\u001b[39mkwds)\n\u001b[0;32m    607\u001b[0m \u001b[38;5;28;01mif\u001b[39;00m chunksize \u001b[38;5;129;01mor\u001b[39;00m iterator:\n\u001b[0;32m    608\u001b[0m     \u001b[38;5;28;01mreturn\u001b[39;00m parser\n",
      "File \u001b[1;32mF:\\Anaconda3\\Lib\\site-packages\\pandas\\io\\parsers\\readers.py:1442\u001b[0m, in \u001b[0;36mTextFileReader.__init__\u001b[1;34m(self, f, engine, **kwds)\u001b[0m\n\u001b[0;32m   1439\u001b[0m     \u001b[38;5;28mself\u001b[39m\u001b[38;5;241m.\u001b[39moptions[\u001b[38;5;124m\"\u001b[39m\u001b[38;5;124mhas_index_names\u001b[39m\u001b[38;5;124m\"\u001b[39m] \u001b[38;5;241m=\u001b[39m kwds[\u001b[38;5;124m\"\u001b[39m\u001b[38;5;124mhas_index_names\u001b[39m\u001b[38;5;124m\"\u001b[39m]\n\u001b[0;32m   1441\u001b[0m \u001b[38;5;28mself\u001b[39m\u001b[38;5;241m.\u001b[39mhandles: IOHandles \u001b[38;5;241m|\u001b[39m \u001b[38;5;28;01mNone\u001b[39;00m \u001b[38;5;241m=\u001b[39m \u001b[38;5;28;01mNone\u001b[39;00m\n\u001b[1;32m-> 1442\u001b[0m \u001b[38;5;28mself\u001b[39m\u001b[38;5;241m.\u001b[39m_engine \u001b[38;5;241m=\u001b[39m \u001b[38;5;28mself\u001b[39m\u001b[38;5;241m.\u001b[39m_make_engine(f, \u001b[38;5;28mself\u001b[39m\u001b[38;5;241m.\u001b[39mengine)\n",
      "File \u001b[1;32mF:\\Anaconda3\\Lib\\site-packages\\pandas\\io\\parsers\\readers.py:1735\u001b[0m, in \u001b[0;36mTextFileReader._make_engine\u001b[1;34m(self, f, engine)\u001b[0m\n\u001b[0;32m   1733\u001b[0m     \u001b[38;5;28;01mif\u001b[39;00m \u001b[38;5;124m\"\u001b[39m\u001b[38;5;124mb\u001b[39m\u001b[38;5;124m\"\u001b[39m \u001b[38;5;129;01mnot\u001b[39;00m \u001b[38;5;129;01min\u001b[39;00m mode:\n\u001b[0;32m   1734\u001b[0m         mode \u001b[38;5;241m+\u001b[39m\u001b[38;5;241m=\u001b[39m \u001b[38;5;124m\"\u001b[39m\u001b[38;5;124mb\u001b[39m\u001b[38;5;124m\"\u001b[39m\n\u001b[1;32m-> 1735\u001b[0m \u001b[38;5;28mself\u001b[39m\u001b[38;5;241m.\u001b[39mhandles \u001b[38;5;241m=\u001b[39m get_handle(\n\u001b[0;32m   1736\u001b[0m     f,\n\u001b[0;32m   1737\u001b[0m     mode,\n\u001b[0;32m   1738\u001b[0m     encoding\u001b[38;5;241m=\u001b[39m\u001b[38;5;28mself\u001b[39m\u001b[38;5;241m.\u001b[39moptions\u001b[38;5;241m.\u001b[39mget(\u001b[38;5;124m\"\u001b[39m\u001b[38;5;124mencoding\u001b[39m\u001b[38;5;124m\"\u001b[39m, \u001b[38;5;28;01mNone\u001b[39;00m),\n\u001b[0;32m   1739\u001b[0m     compression\u001b[38;5;241m=\u001b[39m\u001b[38;5;28mself\u001b[39m\u001b[38;5;241m.\u001b[39moptions\u001b[38;5;241m.\u001b[39mget(\u001b[38;5;124m\"\u001b[39m\u001b[38;5;124mcompression\u001b[39m\u001b[38;5;124m\"\u001b[39m, \u001b[38;5;28;01mNone\u001b[39;00m),\n\u001b[0;32m   1740\u001b[0m     memory_map\u001b[38;5;241m=\u001b[39m\u001b[38;5;28mself\u001b[39m\u001b[38;5;241m.\u001b[39moptions\u001b[38;5;241m.\u001b[39mget(\u001b[38;5;124m\"\u001b[39m\u001b[38;5;124mmemory_map\u001b[39m\u001b[38;5;124m\"\u001b[39m, \u001b[38;5;28;01mFalse\u001b[39;00m),\n\u001b[0;32m   1741\u001b[0m     is_text\u001b[38;5;241m=\u001b[39mis_text,\n\u001b[0;32m   1742\u001b[0m     errors\u001b[38;5;241m=\u001b[39m\u001b[38;5;28mself\u001b[39m\u001b[38;5;241m.\u001b[39moptions\u001b[38;5;241m.\u001b[39mget(\u001b[38;5;124m\"\u001b[39m\u001b[38;5;124mencoding_errors\u001b[39m\u001b[38;5;124m\"\u001b[39m, \u001b[38;5;124m\"\u001b[39m\u001b[38;5;124mstrict\u001b[39m\u001b[38;5;124m\"\u001b[39m),\n\u001b[0;32m   1743\u001b[0m     storage_options\u001b[38;5;241m=\u001b[39m\u001b[38;5;28mself\u001b[39m\u001b[38;5;241m.\u001b[39moptions\u001b[38;5;241m.\u001b[39mget(\u001b[38;5;124m\"\u001b[39m\u001b[38;5;124mstorage_options\u001b[39m\u001b[38;5;124m\"\u001b[39m, \u001b[38;5;28;01mNone\u001b[39;00m),\n\u001b[0;32m   1744\u001b[0m )\n\u001b[0;32m   1745\u001b[0m \u001b[38;5;28;01massert\u001b[39;00m \u001b[38;5;28mself\u001b[39m\u001b[38;5;241m.\u001b[39mhandles \u001b[38;5;129;01mis\u001b[39;00m \u001b[38;5;129;01mnot\u001b[39;00m \u001b[38;5;28;01mNone\u001b[39;00m\n\u001b[0;32m   1746\u001b[0m f \u001b[38;5;241m=\u001b[39m \u001b[38;5;28mself\u001b[39m\u001b[38;5;241m.\u001b[39mhandles\u001b[38;5;241m.\u001b[39mhandle\n",
      "File \u001b[1;32mF:\\Anaconda3\\Lib\\site-packages\\pandas\\io\\common.py:856\u001b[0m, in \u001b[0;36mget_handle\u001b[1;34m(path_or_buf, mode, encoding, compression, memory_map, is_text, errors, storage_options)\u001b[0m\n\u001b[0;32m    851\u001b[0m \u001b[38;5;28;01melif\u001b[39;00m \u001b[38;5;28misinstance\u001b[39m(handle, \u001b[38;5;28mstr\u001b[39m):\n\u001b[0;32m    852\u001b[0m     \u001b[38;5;66;03m# Check whether the filename is to be opened in binary mode.\u001b[39;00m\n\u001b[0;32m    853\u001b[0m     \u001b[38;5;66;03m# Binary mode does not support 'encoding' and 'newline'.\u001b[39;00m\n\u001b[0;32m    854\u001b[0m     \u001b[38;5;28;01mif\u001b[39;00m ioargs\u001b[38;5;241m.\u001b[39mencoding \u001b[38;5;129;01mand\u001b[39;00m \u001b[38;5;124m\"\u001b[39m\u001b[38;5;124mb\u001b[39m\u001b[38;5;124m\"\u001b[39m \u001b[38;5;129;01mnot\u001b[39;00m \u001b[38;5;129;01min\u001b[39;00m ioargs\u001b[38;5;241m.\u001b[39mmode:\n\u001b[0;32m    855\u001b[0m         \u001b[38;5;66;03m# Encoding\u001b[39;00m\n\u001b[1;32m--> 856\u001b[0m         handle \u001b[38;5;241m=\u001b[39m \u001b[38;5;28mopen\u001b[39m(\n\u001b[0;32m    857\u001b[0m             handle,\n\u001b[0;32m    858\u001b[0m             ioargs\u001b[38;5;241m.\u001b[39mmode,\n\u001b[0;32m    859\u001b[0m             encoding\u001b[38;5;241m=\u001b[39mioargs\u001b[38;5;241m.\u001b[39mencoding,\n\u001b[0;32m    860\u001b[0m             errors\u001b[38;5;241m=\u001b[39merrors,\n\u001b[0;32m    861\u001b[0m             newline\u001b[38;5;241m=\u001b[39m\u001b[38;5;124m\"\u001b[39m\u001b[38;5;124m\"\u001b[39m,\n\u001b[0;32m    862\u001b[0m         )\n\u001b[0;32m    863\u001b[0m     \u001b[38;5;28;01melse\u001b[39;00m:\n\u001b[0;32m    864\u001b[0m         \u001b[38;5;66;03m# Binary mode\u001b[39;00m\n\u001b[0;32m    865\u001b[0m         handle \u001b[38;5;241m=\u001b[39m \u001b[38;5;28mopen\u001b[39m(handle, ioargs\u001b[38;5;241m.\u001b[39mmode)\n",
      "\u001b[1;31mFileNotFoundError\u001b[0m: [Errno 2] No such file or directory: 'dataset_for_comparison.csv'"
     ]
    }
   ],
   "source": [
    "# LOADING DATA FROM CSV FILE\n",
    "df=pd.read_csv(\"dataset_for_comparison.csv\", encoding='latin1')\n",
    "df"
   ]
  },
  {
   "cell_type": "markdown",
   "id": "c5202e8c",
   "metadata": {},
   "source": [
    "# Q-1 Converting all the posts to lowercase:"
   ]
  },
  {
   "cell_type": "code",
   "execution_count": null,
   "id": "f5691a03",
   "metadata": {},
   "outputs": [],
   "source": [
    "df['Post'] = df['Post'].str.lower()\n",
    "df"
   ]
  },
  {
   "cell_type": "markdown",
   "id": "bc792113",
   "metadata": {},
   "source": [
    "# Q-2: Calculating statistics for each company"
   ]
  },
  {
   "cell_type": "code",
   "execution_count": null,
   "id": "417b4698",
   "metadata": {},
   "outputs": [],
   "source": [
    "Lamborghini_posts = df[df['Company'] == 'Lamborghini']\n",
    "Ferrari_posts = df[df['Company'] == 'Ferrari']"
   ]
  },
  {
   "cell_type": "code",
   "execution_count": null,
   "id": "085f6ca3",
   "metadata": {},
   "outputs": [],
   "source": [
    "# a. Calculating total number of posts\n",
    "total_posts_Lamborghini = len(Lamborghini_posts)\n",
    "total_posts_Ferrari = len(Ferrari_posts)\n",
    "print(\"Total number of posts by Lamborghini:\", total_posts_Lamborghini)\n",
    "print(\"Total number of posts for Ferrari:\", total_posts_Ferrari)"
   ]
  },
  {
   "cell_type": "code",
   "execution_count": null,
   "id": "6bb24163",
   "metadata": {},
   "outputs": [],
   "source": [
    "# Removing or replacing empty Lamborghini_posts = data[data['company'] == 'Lamborghini_posts']\n",
    "Lamborghini_posts = df[df['Company'] == 'Lamborghini']\n",
    "df['Post'] = df['Post'].dropna()\n",
    "df"
   ]
  },
  {
   "cell_type": "code",
   "execution_count": null,
   "id": "ee3afffa",
   "metadata": {},
   "outputs": [],
   "source": [
    "# Splitting the 'Post' column into words and calculating the average post length\n",
    "df['Post_length'] = df['Post'].str.split().apply(len)\n",
    "df\n"
   ]
  },
  {
   "cell_type": "code",
   "execution_count": null,
   "id": "08ca2c4a",
   "metadata": {},
   "outputs": [],
   "source": [
    "updated_df=df.sort_values(by=['Post_length'],ascending=False)\n",
    "updated_df"
   ]
  },
  {
   "cell_type": "code",
   "execution_count": null,
   "id": "5d2f6683",
   "metadata": {},
   "outputs": [],
   "source": [
    "# b. Average post length (in words)\n",
    "average_post_length_Lamborghini = df[df['Company'] == 'Lamborghini']['Post_length'].mean()\n",
    "average_post_length_Ferrari = df[df['Company'] == 'Ferrari']['Post_length'].mean()\n",
    "print(\"Average Post Length for Lamborghini:\", average_post_length_Lamborghini)\n",
    "print(\"Average Post Length for Ferrari:\", average_post_length_Ferrari)"
   ]
  },
  {
   "cell_type": "code",
   "execution_count": null,
   "id": "7fe4db42",
   "metadata": {},
   "outputs": [],
   "source": [
    "# c. Maximum and minimum post length (in words)\n",
    "max_post_length_Lamborghini = df[df['Company'] == 'Lamborghini']['Post_length'].max()\n",
    "min_post_length_Lamborghini = df[df['Company'] == 'Lamborghini']['Post_length'].min()\n",
    "max_post_length_Ferrari = df[df['Company'] == 'Ferrari']['Post_length'].max()\n",
    "min_post_length_Ferrari = df[df['Company'] == 'Ferrari']['Post_length'].min()\n",
    "print(\"Lamborghini:\")\n",
    "print(\"Maximum Post Length:\", max_post_length_Lamborghini)\n",
    "print(\"Minimum Post Length:\", min_post_length_Lamborghini)\n",
    "\n",
    "print(\"Ferrari:\")\n",
    "print(\"Maximum Post Length:\", max_post_length_Ferrari)\n",
    "print(\"Minimum Post Length:\", min_post_length_Ferrari)"
   ]
  },
  {
   "cell_type": "markdown",
   "id": "84c1aae7",
   "metadata": {},
   "source": [
    "# Q-3: Finding the three most common words in the posts between the two company"
   ]
  },
  {
   "cell_type": "code",
   "execution_count": null,
   "id": "6c7d0e62",
   "metadata": {},
   "outputs": [],
   "source": [
    "Lamborghini_words = Lamborghini_posts['Post'].str.split().explode()\n",
    "Ferrari_words = Ferrari_posts['Post'].str.split().explode()\n",
    "common_words_Lamborghini = Lamborghini_words.value_counts().head(5)\n",
    "common_words_Ferrari = Ferrari_words.value_counts().head(5)\n",
    "print(\"Common words for Lamborghini:\")\n",
    "print(common_words_Lamborghini)\n",
    "\n",
    "print(\"Common words for Ferrari:\")\n",
    "print(common_words_Ferrari)"
   ]
  },
  {
   "cell_type": "code",
   "execution_count": null,
   "id": "95a1f5f1",
   "metadata": {},
   "outputs": [],
   "source": [
    "# To Find most common word of more than 3 alphabets\n",
    "# Filter words with more than 3 characters for Lamborghini\n",
    "long_words_Lamborghini = Lamborghini_words[Lamborghini_words.str.len() > 3].value_counts().head(5)\n",
    "\n",
    "# Filter words with more than 3 characters for Ferrari\n",
    "long_words_Ferrari = Ferrari_words[Ferrari_words.str.len() > 3].value_counts().head(5)\n",
    "\n",
    "# Print the results\n",
    "print(\"Long words for Lamborghini:\")\n",
    "print(long_words_Lamborghini)\n",
    "\n",
    "print(\"\\nLong words for Ferrari:\")\n",
    "print(long_words_Ferrari)"
   ]
  },
  {
   "cell_type": "markdown",
   "id": "86d5c0e1",
   "metadata": {},
   "source": [
    "# Q-4: Count the words that are unique to each company"
   ]
  },
  {
   "cell_type": "code",
   "execution_count": null,
   "id": "ce0271e7",
   "metadata": {},
   "outputs": [],
   "source": [
    "unique_words_Lamborghini = set(Lamborghini_words) - set(Ferrari_words)\n",
    "unique_words_Ferrari = set(Ferrari_words) - set(Lamborghini_words)\n",
    "\n",
    "print(\"Unique words for Lamborghini:\", unique_words_Lamborghini)\n",
    "print(\"Unique words for Ferrari:\", unique_words_Ferrari)"
   ]
  },
  {
   "cell_type": "markdown",
   "id": "bda560ee",
   "metadata": {},
   "source": [
    "# Q-5: Find words that have repeated in at least 30% of the posts for each company"
   ]
  },
  {
   "cell_type": "code",
   "execution_count": null,
   "id": "aa3f11be",
   "metadata": {},
   "outputs": [],
   "source": [
    "threshold = 0.3 * total_posts_Lamborghini\n",
    "repeated_words_Lamborghini = Lamborghini_words.value_counts()[Lamborghini_words.value_counts() >= threshold]\n",
    "threshold = 0.3 * total_posts_Ferrari\n",
    "repeated_words_Ferrari = Ferrari_words.value_counts()[Ferrari_words.value_counts() >= threshold]\n",
    "print(\"Words repeated in at least 30% of Lamborghini posts:\")\n",
    "print(repeated_words_Lamborghini)\n",
    "\n",
    "print(\"Words repeated in at least 30% of Ferrari posts:\")\n",
    "print(repeated_words_Ferrari)"
   ]
  },
  {
   "cell_type": "markdown",
   "id": "723741de",
   "metadata": {},
   "source": [
    "# Q-6: Calculate and compare the average post length for both companies"
   ]
  },
  {
   "cell_type": "code",
   "execution_count": null,
   "id": "6aa2ed0e",
   "metadata": {},
   "outputs": [],
   "source": [
    "average_post_length_Lamborghini = df[df['Company'] == 'Lamborghini']['Post_length'].mean()\n",
    "average_post_length_nike = df[df['Company'] == 'Ferrari']['Post_length'].mean()\n",
    "print(\"Average Post Length for Lamborghini:\", average_post_length_Lamborghini)\n",
    "print(\"Average Post Length for Ferrari:\", average_post_length_Ferrari)"
   ]
  },
  {
   "cell_type": "markdown",
   "id": "ce25a683",
   "metadata": {},
   "source": [
    "# Q-7: Calculating the percentage of posts meeting specific word length criteria"
   ]
  },
  {
   "cell_type": "code",
   "execution_count": null,
   "id": "80c181a4",
   "metadata": {},
   "outputs": [],
   "source": [
    "# Handling NaN values in the 'Post' column and filtering non-string values\n",
    "df['Post'] = df['Post'].fillna('').astype(str)\n",
    "# (a) What percentage of total posts have at least 2 words with length greater than 10.\n",
    "posts_with_long_words_Lamborghini = df[df['Company'] == 'Lamborghini']['Post'].apply(lambda x: sum(len(word) > 10 for word in x.split()) >= 2).mean()\n",
    "posts_with_long_words_Ferrari = df[df['Company'] == 'Ferrari']['Post'].apply(lambda x: sum(len(word) > 10 for word in x.split()) >= 2).mean()\n",
    "\n",
    "print(f\"Percent of Lamborghini posts with at least 2 words with length > 10: {posts_with_long_words_Lamborghini * 100:.2f}%\")\n",
    "print(f\"Percent of Ferrari posts with at least 2 words with length > 10: {posts_with_long_words_Ferrari * 100:.2f}%\")"
   ]
  },
  {
   "cell_type": "markdown",
   "id": "ec975f00",
   "metadata": {},
   "source": [
    "# Q-8: Comparing the count of hash tags used in both companies"
   ]
  },
  {
   "cell_type": "code",
   "execution_count": null,
   "id": "12471e0f",
   "metadata": {},
   "outputs": [],
   "source": [
    "hashtag_counts_Lamborghini = Lamborghini_posts['Post'].str.count('#').sum()\n",
    "hashtag_counts_Ferrari = Ferrari_posts['Post'].str.count('#').sum()\n",
    "print(\"Hashtag Counts for Lamborghini:\", hashtag_counts_Lamborghini)\n",
    "print(\"Hashtag Counts for Ferrari:\", hashtag_counts_Ferrari)"
   ]
  },
  {
   "cell_type": "markdown",
   "id": "998c8555",
   "metadata": {},
   "source": [
    "# Q-9: Creating at least 10 new hashtags by randomly concatenating any two hashtags with “v/s” in between"
   ]
  },
  {
   "cell_type": "code",
   "execution_count": null,
   "id": "8bda4bbb",
   "metadata": {},
   "outputs": [],
   "source": [
    "generated_hashtags = []\n",
    "\n",
    "for hashtags in df['Post']:\n",
    "    hashtag_list = hashtags.split('#')\n",
    "    if len(hashtag_list) >= 3:\n",
    "        first_hashtag = random.choice(hashtag_list[1:])\n",
    "        second_hashtag = random.choice([h for h in hashtag_list if h != first_hashtag])\n",
    "        new_hashtag = f\"{first_hashtag}v/s{second_hashtag}\"\n",
    "        generated_hashtags.append(new_hashtag)\n",
    "    else:\n",
    "        generated_hashtags.append(\"\")\n",
    "\n",
    "df['generated_hashtags'] = generated_hashtags\n",
    "\n",
    "print(df['generated_hashtags'].head(20))"
   ]
  },
  {
   "cell_type": "markdown",
   "id": "dacc4ea5",
   "metadata": {},
   "source": [
    "# Q-10: Analysing the distribution of post lengths for both companies and visualising it using histograms"
   ]
  },
  {
   "cell_type": "code",
   "execution_count": null,
   "id": "c23a1d83",
   "metadata": {},
   "outputs": [],
   "source": [
    "plt.hist(df[df['Company'] == 'Lamborghini']['Post_length'], bins=10, alpha=0.6, label='Lamborghini', color='Red')\n",
    "plt.hist(df[df['Company'] == 'Ferrari']['Post_length'], bins=10, alpha=0.7, label='Ferrari', color='Black')\n",
    "plt.xlabel('Post Length (in words)')\n",
    "plt.ylabel('Frequency')\n",
    "plt.legend()\n",
    "plt.show()"
   ]
  },
  {
   "cell_type": "code",
   "execution_count": null,
   "id": "1bff08d2",
   "metadata": {},
   "outputs": [],
   "source": []
  }
 ],
 "metadata": {
  "kernelspec": {
   "display_name": "Python 3 (ipykernel)",
   "language": "python",
   "name": "python3"
  },
  "language_info": {
   "codemirror_mode": {
    "name": "ipython",
    "version": 3
   },
   "file_extension": ".py",
   "mimetype": "text/x-python",
   "name": "python",
   "nbconvert_exporter": "python",
   "pygments_lexer": "ipython3",
   "version": "3.11.3"
  }
 },
 "nbformat": 4,
 "nbformat_minor": 5
}
